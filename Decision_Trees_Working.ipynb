{
 "cells": [
  {
   "cell_type": "code",
   "execution_count": 12,
   "id": "958f6724",
   "metadata": {},
   "outputs": [],
   "source": [
    "import numpy as np\n",
    "import matplotlib.pyplot as plt\n"
   ]
  },
  {
   "cell_type": "code",
   "execution_count": 14,
   "id": "39ecc38d",
   "metadata": {},
   "outputs": [],
   "source": [
    "from utils import *\n",
    "%matplotlib inline"
   ]
  },
  {
   "cell_type": "markdown",
   "id": "78a89b15",
   "metadata": {},
   "source": [
    "# Here we are using mushroom data to detect whether it is edible or not"
   ]
  },
  {
   "cell_type": "markdown",
   "id": "847f97fe",
   "metadata": {},
   "source": [
    "# The mushroom is one hot encoded into three features namely brown colour ( 0 for red cap or 1) , tapering shape(0 or 1)\n",
    "# solitary ( 1 or 0)\n",
    "# y _train is whether the mushroom is edible or not(1 or 0)"
   ]
  },
  {
   "attachments": {
    "image.png": {
     "image/png": "[encoded data removed]"
    }
   },
   "cell_type": "markdown",
   "id": "82e1c45c",
   "metadata": {},
   "source": [
    "![image.png](attachment:image.png)"
   ]
  },
  {
   "cell_type": "code",
   "execution_count": 15,
   "id": "16d74fae",
   "metadata": {},
   "outputs": [],
   "source": [
    "X_train = np.array([[1,1,1],[1,0,1],[1,0,0],[1,0,0],[1,1,1],[0,1,1],[0,0,0],[1,0,1],[0,1,0],[1,0,0]])\n",
    "y_train = np.array([1,1,0,0,1,0,0,1,1,0])\n",
    "\n"
   ]
  },
  {
   "cell_type": "code",
   "execution_count": 16,
   "id": "0a12696e",
   "metadata": {},
   "outputs": [
    {
     "name": "stdout",
     "output_type": "stream",
     "text": [
      "(10, 3)\n",
      "(10,)\n"
     ]
    }
   ],
   "source": [
    "print(X_train.shape)\n",
    "print(y_train.shape)"
   ]
  },
  {
   "cell_type": "markdown",
   "id": "57d6639c",
   "metadata": {},
   "source": [
    "# Calculating entropy"
   ]
  },
  {
   "cell_type": "code",
   "execution_count": null,
   "id": "40a0404d",
   "metadata": {},
   "outputs": [],
   "source": [
    "def compute_entropy(y):\n",
    "    entropy = 0\n",
    "    if len(y)!= 0:\n",
    "        p1 = len(y[y==1])/ len(y)\n",
    "        if p1 != 0 and p1 != 1:\n",
    "            entropy = -p1 * np.log2(p1) - (1 - p1) * np.log2(1 - p1)\n",
    "        else:\n",
    "            entropy = 0\n",
    "    return entropy\n",
    "            "
   ]
  },
  {
   "cell_type": "code",
   "execution_count": 19,
   "id": "c3fac13a",
   "metadata": {},
   "outputs": [
    {
     "name": "stdout",
     "output_type": "stream",
     "text": [
      "Entropy at root node:  1.0\n"
     ]
    }
   ],
   "source": [
    "print(\"Entropy at root node: \", compute_entropy(y_train))"
   ]
  },
  {
   "cell_type": "markdown",
   "id": "7f67b656",
   "metadata": {},
   "source": [
    "# Splitting the dataset\n"
   ]
  },
  {
   "cell_type": "code",
   "execution_count": 20,
   "id": "c41a5db0",
   "metadata": {},
   "outputs": [],
   "source": [
    "def split_dataset(X,node_indices,feature):\n",
    "    left_indices = []\n",
    "    right_indices = []\n",
    "    \n",
    "    for i in node_indices:\n",
    "        if X[i][feature] == 1:\n",
    "            left_indices.append(i)\n",
    "        else:\n",
    "            right_indices.append(i)\n",
    "    return left_indices,right_indices\n",
    "    "
   ]
  },
  {
   "cell_type": "code",
   "execution_count": 21,
   "id": "2c3c41b7",
   "metadata": {},
   "outputs": [
    {
     "name": "stdout",
     "output_type": "stream",
     "text": [
      "Based on feature brown or red cap\n",
      "left indices:  [0, 1, 2, 3, 4, 7, 9]\n",
      "Right indices:  [5, 6, 8]\n"
     ]
    }
   ],
   "source": [
    "root_indices = [0,1,2,3,4,5,6,7,8,9]\n",
    "\n",
    "# there are three features namely indices 0(brown cap),1(Tapering Stalk) or 2(Solitary)\n",
    "feature = 0\n",
    "left_indices,right_indices = split_dataset(X_train,root_indices,feature)\n",
    "print(\"Based on feature brown or red cap\")\n",
    "print(\"left indices: \", left_indices)\n",
    "print(\"Right indices: \",right_indices)\n"
   ]
  },
  {
   "cell_type": "markdown",
   "id": "59e6617d",
   "metadata": {},
   "source": [
    "# Computing Information Gain"
   ]
  },
  {
   "cell_type": "code",
   "execution_count": 22,
   "id": "ace4bfe6",
   "metadata": {},
   "outputs": [],
   "source": [
    "def compute_information_gain(X,y,node_indices,feature):\n",
    "    \n",
    "    left_indices, right_indices = split_dataset(X, node_indices,feature)\n",
    "    X_node,y_node = X[node_indices],y[node_indices]\n",
    "    X_left,y_left = X[left_indices],y[left_indices]\n",
    "    X_right,y_right = X[right_indices],y[right_indices]\n",
    "    \n",
    "    information_gain = 0\n",
    "    \n",
    "    node_entropy = compute_entropy(y_node)\n",
    "    left_entropy = compute_entropy(y_left)\n",
    "    right_entropy = compute_entropy(y_right)\n",
    "    w_left = len(X_left)/len(X_node)\n",
    "    w_right = len(X_right)/len(X_node)\n",
    "    weighted_entropy = w_left * left_entropy + w_right * right_entropy\n",
    "    information_gain = node_entropy - weighted_entropy\n",
    "    return information_gain"
   ]
  },
  {
   "cell_type": "code",
   "execution_count": 24,
   "id": "8f5ad7c4",
   "metadata": {},
   "outputs": [
    {
     "name": "stdout",
     "output_type": "stream",
     "text": [
      "Information Gain from splitting the root on brown cap:  0.034851554559677034\n",
      "Information Gain from splitting the root on tapering stalk shape:  0.12451124978365313\n",
      "Information Gain from splitting the root on solitary:  0.2780719051126377\n"
     ]
    }
   ],
   "source": [
    "info_gain0 = compute_information_gain(X_train,y_train,root_indices,feature=0)\n",
    "print(\"Information Gain from splitting the root on brown cap: \", info_gain0)\n",
    "\n",
    "info_gain1 = compute_information_gain(X_train,y_train,root_indices,feature=1)\n",
    "print(\"Information Gain from splitting the root on tapering stalk shape: \", info_gain1)\n",
    "\n",
    "info_gain2 = compute_information_gain(X_train,y_train,root_indices,feature=2)\n",
    "print(\"Information Gain from splitting the root on solitary: \", info_gain2)\n",
    "\n"
   ]
  },
  {
   "cell_type": "markdown",
   "id": "a8471d1a",
   "metadata": {},
   "source": [
    "# Getting Best Split"
   ]
  },
  {
   "cell_type": "code",
   "execution_count": 26,
   "id": "8a633b0c",
   "metadata": {},
   "outputs": [],
   "source": [
    "def get_best_split(X,y,node_indices):\n",
    "    num_features = X.shape[1]\n",
    "    best_feature = -1\n",
    "    max_info_gain = 0\n",
    "    for feature in range(num_features):\n",
    "        info_gain = compute_information_gain(X,y,root_indices,feature)\n",
    "        if info_gain > max_info_gain:\n",
    "            max_info_gain = info_gain\n",
    "            best_feature = feature\n",
    "    return best_feature\n",
    "        \n",
    "    "
   ]
  },
  {
   "cell_type": "code",
   "execution_count": 27,
   "id": "48c7cef7",
   "metadata": {},
   "outputs": [
    {
     "name": "stdout",
     "output_type": "stream",
     "text": [
      "Best feature to split on: 2\n"
     ]
    }
   ],
   "source": [
    "best_feature = get_best_split(X_train, y_train, root_indices)\n",
    "print(\"Best feature to split on: %d\" % best_feature)\n",
    "\n"
   ]
  },
  {
   "cell_type": "code",
   "execution_count": 28,
   "id": "bb77774b",
   "metadata": {},
   "outputs": [],
   "source": [
    "# Therefore we see that the best feature to split on has index 2 or the feature is solitary(0 or 1)"
   ]
  },
  {
   "cell_type": "markdown",
   "id": "9132cc7f",
   "metadata": {},
   "source": [
    "# Building the tree"
   ]
  },
  {
   "cell_type": "code",
   "execution_count": 33,
   "id": "eb7ccd83",
   "metadata": {},
   "outputs": [],
   "source": [
    "tree = []\n",
    "def build_tree_recursive(X,y,node_indices,branch_name,max_depth,current_depth):\n",
    "    \n",
    "    if current_depth == max_depth:\n",
    "        formatting = \" \"*current_depth + \"-\"*current_depth\n",
    "        print(formatting, \"%s leaf node with indices\" % branch_name, node_indices)\n",
    "        return\n",
    "    print(node_indices)\n",
    "    best_feature = get_best_split(X,y,node_indices)\n",
    "    print(best_feature)\n",
    "    formatting = \"-\"*current_depth\n",
    "    print(\"%s Depth %d, %s: Split on feature: %d\" % (formatting, current_depth, branch_name, best_feature))\n",
    "    left_indices, right_indices = split_dataset(X, node_indices, best_feature)\n",
    "    tree.append((left_indices, right_indices, best_feature))\n",
    "    \n",
    "    build_tree_recursive(X, y, left_indices, \"Left\", max_depth, current_depth+1)\n",
    "    build_tree_recursive(X, y, right_indices, \"Right\", max_depth, current_depth+1)"
   ]
  },
  {
   "cell_type": "code",
   "execution_count": 34,
   "id": "cee540de",
   "metadata": {},
   "outputs": [
    {
     "name": "stdout",
     "output_type": "stream",
     "text": [
      "[0, 1, 2, 3, 4, 5, 6, 7, 8, 9]\n",
      "2\n",
      " Depth 0, Root: Split on feature: 2\n",
      "[0, 1, 4, 5, 7]\n",
      "2\n",
      "- Depth 1, Left: Split on feature: 2\n",
      "  -- Left leaf node with indices [0, 1, 4, 5, 7]\n",
      "  -- Right leaf node with indices []\n",
      "[2, 3, 6, 8, 9]\n",
      "2\n",
      "- Depth 1, Right: Split on feature: 2\n",
      "  -- Left leaf node with indices []\n",
      "  -- Right leaf node with indices [2, 3, 6, 8, 9]\n"
     ]
    }
   ],
   "source": [
    "build_tree_recursive(X_train, y_train, root_indices, \"Root\", max_depth=2, current_depth=0)"
   ]
  },
  {
   "cell_type": "code",
   "execution_count": null,
   "id": "2950320d",
   "metadata": {},
   "outputs": [],
   "source": []
  }
 ],
 "metadata": {
  "kernelspec": {
   "display_name": "Python 3 (ipykernel)",
   "language": "python",
   "name": "python3"
  },
  "language_info": {
   "codemirror_mode": {
    "name": "ipython",
    "version": 3
   },
   "file_extension": ".py",
   "mimetype": "text/x-python",
   "name": "python",
   "nbconvert_exporter": "python",
   "pygments_lexer": "ipython3",
   "version": "3.10.2"
  }
 },
 "nbformat": 4,
 "nbformat_minor": 5
}
